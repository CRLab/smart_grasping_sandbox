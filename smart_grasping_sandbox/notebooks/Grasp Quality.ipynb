{
 "cells": [
  {
   "cell_type": "code",
   "execution_count": 1,
   "metadata": {},
   "outputs": [
    {
     "name": "stderr",
     "output_type": "stream",
     "text": [
      "Using TensorFlow backend.\n"
     ]
    },
    {
     "name": "stdout",
     "output_type": "stream",
     "text": [
      "Couldn't import dot_parser, loading of dot files will not be possible.\n"
     ]
    }
   ],
   "source": [
    "from keras.models import Sequential\n",
    "from keras.layers import Dense\n",
    "from keras.callbacks import TensorBoard\n",
    "from keras.layers import *\n",
    "import numpy\n",
    "\n",
    "from sklearn.model_selection import train_test_split\n",
    "\n",
    "dataset = numpy.loadtxt(\"./shadow_robot_dataset.csv\", delimiter=\",\")"
   ]
  },
  {
   "cell_type": "markdown",
   "metadata": {},
   "source": [
    "# Loading the data\n",
    "\n",
    "Each row of my dataset contains the following:\n",
    "\n",
    "|0 | 1|2|3|4|5|6|7|8|9|10|11|12|13|14|15|16|17|18|19|20|21|22|23|24|25|26|27|28|29|\n",
    "|:-:|:-:|:-:|:-:|:-:|:-:|:-:|:-:|:-:|:-:|:-:|:-:|:-:|:-:|:-:|:-:|:-:|:-:|:-:|:-:|:-:|:-:|:-:|:-:|:-:|:-:|:-:|:-:|:-:|\n",
    "| experiment_number | robustness| H1_F1J2_pos | H1_F1J2_vel | H1_F1J2_effort | H1_F1J3_pos | H1_F1J3_vel | H1_F1J3_effort | H1_F1J1_pos | H1_F1J1_vel | H1_F1J1_effort | H1_F3J1_pos | H1_F3J1_vel | H1_F3J1_effort | H1_F3J2_pos | H1_F3J2_vel | H1_F3J2_effort | H1_F3J3_pos | H1_F3J3_vel | H1_F3J3_effort |  H1_F2J1_pos | H1_F2J1_vel | H1_F2J1_effort | H1_F2J3_pos | H1_F2J3_vel | H1_F2J3_effort | H1_F2J2_pos | H1_F2J2_vel | H1_F2J2_effort | measurement_number|\n",
    "\n",
    "My input vector contains the velocity and effort for each joint. I'm creating the vector `X` containing those below:"
   ]
  },
  {
   "cell_type": "code",
   "execution_count": 2,
   "metadata": {},
   "outputs": [],
   "source": [
    "# only use velocity and effort, not position\n",
    "new_X = []\n",
    "for x in dataset:\n",
    "    new_X.append([x[3],x[4],x[6],x[7],x[9],x[10],x[12],x[13],x[15],x[16],\n",
    "                  x[18],x[19],x[21],x[22], x[24], x[25], x[27], x[28]])\n",
    "   \n",
    "X = numpy.array(new_X)"
   ]
  },
  {
   "cell_type": "markdown",
   "metadata": {},
   "source": [
    "My output vector is the predicted grasp robustness. "
   ]
  },
  {
   "cell_type": "code",
   "execution_count": 3,
   "metadata": {
    "collapsed": true
   },
   "outputs": [],
   "source": [
    "Y = dataset[:,1]"
   ]
  },
  {
   "cell_type": "markdown",
   "metadata": {},
   "source": [
    "We are also splitting the dataset into a training set and a test set. \n",
    "\n",
    "This gives us 4 sets: \n",
    "* `X_train` associated to its `Y_train`\n",
    "* `X_test` associated to its `Y_test`\n",
    "\n",
    "We also discretize the output: 1 is a stable grasp and 0 is unstable. A grasp is considered stable if the robustness value is more than 100."
   ]
  },
  {
   "cell_type": "code",
   "execution_count": 4,
   "metadata": {},
   "outputs": [],
   "source": [
    "# fix random seed for reproducibility\n",
    "# and splitting the dataset\n",
    "seed = 7\n",
    "numpy.random.seed(seed)\n",
    "X_train, X_test, Y_train, Y_test = train_test_split(X, Y, test_size=0.20, random_state=seed)\n",
    "\n",
    "# this is a sensible grasp threshold for stability\n",
    "GOOD_GRASP_THRESHOLD = 100\n",
    "\n",
    "# we're also storing the best and worst grasps of the test set to do some sanity checks on them\n",
    "itemindex = numpy.where(Y_test>1.05*GOOD_GRASP_THRESHOLD)\n",
    "best_grasps = X_test[itemindex[0]]\n",
    "itemindex = numpy.where(Y_test<=0.95*GOOD_GRASP_THRESHOLD)\n",
    "bad_grasps = X_test[itemindex[0]]\n",
    "\n",
    "# discretizing the grasp quality for stable or unstable grasps\n",
    "Y_train = numpy.array([int(i>GOOD_GRASP_THRESHOLD) for i in Y_train])\n",
    "Y_train = numpy.reshape(Y_train, (Y_train.shape[0],))\n",
    "\n",
    "Y_test = numpy.array([int(i>GOOD_GRASP_THRESHOLD) for i in Y_test])\n",
    "Y_test = numpy.reshape(Y_test, (Y_test.shape[0],))"
   ]
  },
  {
   "cell_type": "markdown",
   "metadata": {},
   "source": [
    "# Creating the model\n",
    "\n",
    "I'm now creating a model to train. It's a very simple topology. Feel free to play with it and experiment with different model shapes."
   ]
  },
  {
   "cell_type": "code",
   "execution_count": 5,
   "metadata": {},
   "outputs": [],
   "source": [
    "# create model\n",
    "model = Sequential()\n",
    "\n",
    "model.add(Dense(20*len(X[0]), use_bias=True, input_dim=len(X[0]), activation='relu'))\n",
    "model.add(Dropout(0.5))\n",
    "\n",
    "model.add(Dense(1, activation='sigmoid'))\n",
    "\n",
    "# Compile model\n",
    "model.compile(loss='binary_crossentropy', optimizer='adam', metrics=['accuracy'])"
   ]
  },
  {
   "cell_type": "markdown",
   "metadata": {},
   "source": [
    "# Training the model\n",
    "\n",
    "The model training should be relatively quick. To speed it up you can use a GPU :)\n",
    "\n",
    "I'm using 80% of the data for training and 20% for validation."
   ]
  },
  {
   "cell_type": "code",
   "execution_count": 6,
   "metadata": {},
   "outputs": [
    {
     "name": "stdout",
     "output_type": "stream",
     "text": [
      "Train on 290310 samples, validate on 72578 samples\n",
      "Epoch 1/50\n",
      "290310/290310 [==============================] - 2s - loss: 0.9854 - acc: 0.5764 - val_loss: 0.6851 - val_acc: 0.7649\n",
      "Epoch 2/50\n",
      "290310/290310 [==============================] - 2s - loss: 0.8981 - acc: 0.7162 - val_loss: 0.7522 - val_acc: 0.7675\n",
      "Epoch 3/50\n",
      "290310/290310 [==============================] - 2s - loss: 0.8944 - acc: 0.7336 - val_loss: 0.7094 - val_acc: 0.7658\n",
      "Epoch 4/50\n",
      "290310/290310 [==============================] - 2s - loss: 0.8593 - acc: 0.7271 - val_loss: 0.6562 - val_acc: 0.7768\n",
      "Epoch 5/50\n",
      "290310/290310 [==============================] - 2s - loss: 0.8450 - acc: 0.7110 - val_loss: 0.6382 - val_acc: 0.7759\n",
      "Epoch 6/50\n",
      "290310/290310 [==============================] - 2s - loss: 0.8392 - acc: 0.7010 - val_loss: 0.6278 - val_acc: 0.7761\n",
      "Epoch 7/50\n",
      "290310/290310 [==============================] - 2s - loss: 0.8137 - acc: 0.7100 - val_loss: 0.6272 - val_acc: 0.7767\n",
      "Epoch 8/50\n",
      "290310/290310 [==============================] - 2s - loss: 0.7967 - acc: 0.7248 - val_loss: 0.6357 - val_acc: 0.7799\n",
      "Epoch 9/50\n",
      "290310/290310 [==============================] - 2s - loss: 0.7870 - acc: 0.7300 - val_loss: 0.6289 - val_acc: 0.7800\n",
      "Epoch 10/50\n",
      "290310/290310 [==============================] - 2s - loss: 0.7738 - acc: 0.7272 - val_loss: 0.6101 - val_acc: 0.7803\n",
      "Epoch 11/50\n",
      "290310/290310 [==============================] - 2s - loss: 0.7607 - acc: 0.7190 - val_loss: 0.5976 - val_acc: 0.7801\n",
      "Epoch 12/50\n",
      "290310/290310 [==============================] - 2s - loss: 0.7488 - acc: 0.7158 - val_loss: 0.5936 - val_acc: 0.7811\n",
      "Epoch 13/50\n",
      "290310/290310 [==============================] - 2s - loss: 0.7372 - acc: 0.7203 - val_loss: 0.5939 - val_acc: 0.7813\n",
      "Epoch 14/50\n",
      "290310/290310 [==============================] - 2s - loss: 0.7248 - acc: 0.7278 - val_loss: 0.5948 - val_acc: 0.7815\n",
      "Epoch 15/50\n",
      "290310/290310 [==============================] - 2s - loss: 0.7152 - acc: 0.7322 - val_loss: 0.5903 - val_acc: 0.7813\n",
      "Epoch 16/50\n",
      "290310/290310 [==============================] - 2s - loss: 0.7054 - acc: 0.7303 - val_loss: 0.5829 - val_acc: 0.7818\n",
      "Epoch 17/50\n",
      "290310/290310 [==============================] - 2s - loss: 0.6977 - acc: 0.7290 - val_loss: 0.5774 - val_acc: 0.7821\n",
      "Epoch 18/50\n",
      "290310/290310 [==============================] - 2s - loss: 0.6875 - acc: 0.7286 - val_loss: 0.5742 - val_acc: 0.7831\n",
      "Epoch 19/50\n",
      "290310/290310 [==============================] - 2s - loss: 0.6775 - acc: 0.7322 - val_loss: 0.5722 - val_acc: 0.7828\n",
      "Epoch 20/50\n",
      "290310/290310 [==============================] - 2s - loss: 0.6701 - acc: 0.7352 - val_loss: 0.5695 - val_acc: 0.7835\n",
      "Epoch 21/50\n",
      "290310/290310 [==============================] - 2s - loss: 0.6606 - acc: 0.7377 - val_loss: 0.5656 - val_acc: 0.7834\n",
      "Epoch 22/50\n",
      "290310/290310 [==============================] - 2s - loss: 0.6553 - acc: 0.7360 - val_loss: 0.5620 - val_acc: 0.7835\n",
      "Epoch 23/50\n",
      "290310/290310 [==============================] - 2s - loss: 0.6460 - acc: 0.7369 - val_loss: 0.5590 - val_acc: 0.7838\n",
      "Epoch 24/50\n",
      "290310/290310 [==============================] - 2s - loss: 0.6388 - acc: 0.7386 - val_loss: 0.5565 - val_acc: 0.7840\n",
      "Epoch 25/50\n",
      "290310/290310 [==============================] - 2s - loss: 0.6326 - acc: 0.7412 - val_loss: 0.5538 - val_acc: 0.7841\n",
      "Epoch 26/50\n",
      "290310/290310 [==============================] - 2s - loss: 0.6249 - acc: 0.7419 - val_loss: 0.5505 - val_acc: 0.7841\n",
      "Epoch 27/50\n",
      "290310/290310 [==============================] - 2s - loss: 0.6203 - acc: 0.7425 - val_loss: 0.5475 - val_acc: 0.7841\n",
      "Epoch 28/50\n",
      "290310/290310 [==============================] - 2s - loss: 0.6139 - acc: 0.7432 - val_loss: 0.5446 - val_acc: 0.7841\n",
      "Epoch 29/50\n",
      "290310/290310 [==============================] - 2s - loss: 0.6071 - acc: 0.7447 - val_loss: 0.5419 - val_acc: 0.7842\n",
      "Epoch 30/50\n",
      "290310/290310 [==============================] - 2s - loss: 0.6017 - acc: 0.7463 - val_loss: 0.5391 - val_acc: 0.7843\n",
      "Epoch 31/50\n",
      "290310/290310 [==============================] - 2s - loss: 0.5957 - acc: 0.7476 - val_loss: 0.5363 - val_acc: 0.7839\n",
      "Epoch 32/50\n",
      "290310/290310 [==============================] - 2s - loss: 0.5911 - acc: 0.7481 - val_loss: 0.5334 - val_acc: 0.7840\n",
      "Epoch 33/50\n",
      "290310/290310 [==============================] - 2s - loss: 0.5859 - acc: 0.7489 - val_loss: 0.5304 - val_acc: 0.7841\n",
      "Epoch 34/50\n",
      "290310/290310 [==============================] - 2s - loss: 0.5805 - acc: 0.7499 - val_loss: 0.5277 - val_acc: 0.7839\n",
      "Epoch 35/50\n",
      "290310/290310 [==============================] - 2s - loss: 0.5758 - acc: 0.7518 - val_loss: 0.5250 - val_acc: 0.7836\n",
      "Epoch 36/50\n",
      "290310/290310 [==============================] - 2s - loss: 0.5718 - acc: 0.7523 - val_loss: 0.5221 - val_acc: 0.7835\n",
      "Epoch 37/50\n",
      "290310/290310 [==============================] - 2s - loss: 0.5662 - acc: 0.7523 - val_loss: 0.5192 - val_acc: 0.7836\n",
      "Epoch 38/50\n",
      "290310/290310 [==============================] - 2s - loss: 0.5620 - acc: 0.7531 - val_loss: 0.5165 - val_acc: 0.7837\n",
      "Epoch 39/50\n",
      "290310/290310 [==============================] - 2s - loss: 0.5565 - acc: 0.7552 - val_loss: 0.5138 - val_acc: 0.7836\n",
      "Epoch 40/50\n",
      "290310/290310 [==============================] - 2s - loss: 0.5534 - acc: 0.7552 - val_loss: 0.5109 - val_acc: 0.7832\n",
      "Epoch 41/50\n",
      "290310/290310 [==============================] - 2s - loss: 0.5495 - acc: 0.7558 - val_loss: 0.5081 - val_acc: 0.7830\n",
      "Epoch 42/50\n",
      "290310/290310 [==============================] - 2s - loss: 0.5453 - acc: 0.7555 - val_loss: 0.5054 - val_acc: 0.7829\n",
      "Epoch 43/50\n",
      "290310/290310 [==============================] - 2s - loss: 0.5405 - acc: 0.7575 - val_loss: 0.5028 - val_acc: 0.7827\n",
      "Epoch 44/50\n",
      "290310/290310 [==============================] - 2s - loss: 0.5369 - acc: 0.7583 - val_loss: 0.5003 - val_acc: 0.7826\n",
      "Epoch 45/50\n",
      "290310/290310 [==============================] - 2s - loss: 0.5335 - acc: 0.7591 - val_loss: 0.4976 - val_acc: 0.7822\n",
      "Epoch 46/50\n",
      "290310/290310 [==============================] - 2s - loss: 0.5295 - acc: 0.7589 - val_loss: 0.4950 - val_acc: 0.7819\n",
      "Epoch 47/50\n",
      "290310/290310 [==============================] - 2s - loss: 0.5260 - acc: 0.7593 - val_loss: 0.4926 - val_acc: 0.7820\n",
      "Epoch 48/50\n",
      "290310/290310 [==============================] - 2s - loss: 0.5227 - acc: 0.7606 - val_loss: 0.4902 - val_acc: 0.7816\n",
      "Epoch 49/50\n",
      "290310/290310 [==============================] - 2s - loss: 0.5193 - acc: 0.7597 - val_loss: 0.4878 - val_acc: 0.7815\n",
      "Epoch 50/50\n",
      "290310/290310 [==============================] - 2s - loss: 0.5162 - acc: 0.7601 - val_loss: 0.4855 - val_acc: 0.7810\n"
     ]
    },
    {
     "data": {
      "text/plain": [
       "<keras.callbacks.History at 0x7f015ce9f610>"
      ]
     },
     "execution_count": 6,
     "metadata": {},
     "output_type": "execute_result"
    }
   ],
   "source": [
    "model.fit(X_train, Y_train, validation_split=0.20, epochs=50,\n",
    "          batch_size=100000)"
   ]
  },
  {
   "cell_type": "markdown",
   "metadata": {},
   "source": [
    "Now that the model is trained I'm saving it to be able to load it easily later on."
   ]
  },
  {
   "cell_type": "code",
   "execution_count": 7,
   "metadata": {
    "collapsed": true
   },
   "outputs": [],
   "source": [
    "import h5py\n",
    "model.save(\"./model.h5\")"
   ]
  },
  {
   "cell_type": "markdown",
   "metadata": {},
   "source": [
    "# Evaluating the model\n",
    "\n",
    "First let's see how this model performs on the test set - which hasn't been used during the training phase."
   ]
  },
  {
   "cell_type": "code",
   "execution_count": 8,
   "metadata": {},
   "outputs": [
    {
     "ename": "NameError",
     "evalue": "name 'grasp_quality_test' is not defined",
     "output_type": "error",
     "traceback": [
      "\u001b[0;31m---------------------------------------------------------------------------\u001b[0m",
      "\u001b[0;31mNameError\u001b[0m                                 Traceback (most recent call last)",
      "\u001b[0;32m<ipython-input-8-f60c98eac110>\u001b[0m in \u001b[0;36m<module>\u001b[0;34m()\u001b[0m\n\u001b[0;32m----> 1\u001b[0;31m \u001b[0mscores\u001b[0m \u001b[0;34m=\u001b[0m \u001b[0mmodel\u001b[0m\u001b[0;34m.\u001b[0m\u001b[0mevaluate\u001b[0m\u001b[0;34m(\u001b[0m\u001b[0mX_test\u001b[0m\u001b[0;34m,\u001b[0m \u001b[0mgrasp_quality_test\u001b[0m\u001b[0;34m)\u001b[0m\u001b[0;34m\u001b[0m\u001b[0m\n\u001b[0m\u001b[1;32m      2\u001b[0m \u001b[0;32mprint\u001b[0m\u001b[0;34m(\u001b[0m\u001b[0;34m\"\\n%s: %.2f%%\"\u001b[0m \u001b[0;34m%\u001b[0m \u001b[0;34m(\u001b[0m\u001b[0mmodel\u001b[0m\u001b[0;34m.\u001b[0m\u001b[0mmetrics_names\u001b[0m\u001b[0;34m[\u001b[0m\u001b[0;36m1\u001b[0m\u001b[0;34m]\u001b[0m\u001b[0;34m,\u001b[0m \u001b[0mscores\u001b[0m\u001b[0;34m[\u001b[0m\u001b[0;36m1\u001b[0m\u001b[0;34m]\u001b[0m\u001b[0;34m*\u001b[0m\u001b[0;36m100\u001b[0m\u001b[0;34m)\u001b[0m\u001b[0;34m)\u001b[0m\u001b[0;34m\u001b[0m\u001b[0m\n",
      "\u001b[0;31mNameError\u001b[0m: name 'grasp_quality_test' is not defined"
     ]
    }
   ],
   "source": [
    "scores = model.evaluate(X_test, grasp_quality_test)\n",
    "print(\"\\n%s: %.2f%%\" % (model.metrics_names[1], scores[1]*100))"
   ]
  },
  {
   "cell_type": "markdown",
   "metadata": {},
   "source": [
    "Now let's take a quick look at the good grasps we stored earlier. Are they correctly predicted as stable?"
   ]
  },
  {
   "cell_type": "code",
   "execution_count": null,
   "metadata": {},
   "outputs": [],
   "source": [
    "predictions = model.predict(best_grasps)\n",
    "\n",
    "%matplotlib inline\n",
    "import matplotlib.pyplot as plt\n",
    "\n",
    "plt.hist(predictions,\n",
    "         color='#77D651',\n",
    "         alpha=0.5,\n",
    "         label='Good Grasps')\n",
    "\n",
    "plt.title('Histogram of grasp prediction')\n",
    "plt.ylabel('Number of grasps')\n",
    "plt.xlabel('Grasp quality prediction')\n",
    "plt.legend(loc='upper right')\n",
    "\n",
    "plt.show()"
   ]
  },
  {
   "cell_type": "markdown",
   "metadata": {},
   "source": [
    "Most of the grasps are correctly predicted as stable (the grasp quality prediction is more than 0.5)! Looking good.\n",
    "\n",
    "What about the unstable grasps?"
   ]
  },
  {
   "cell_type": "code",
   "execution_count": null,
   "metadata": {},
   "outputs": [],
   "source": [
    "predictions_bad_grasp = model.predict(bad_grasps)\n",
    "\n",
    "\n",
    "# Plot a histogram of defender size\n",
    "plt.hist(predictions_bad_grasp,\n",
    "         color='#D66751',\n",
    "         alpha=0.3,\n",
    "         label='Bad Grasps')\n",
    "\n",
    "plt.title('Histogram of grasp prediction')\n",
    "plt.ylabel('Number of grasps')\n",
    "plt.xlabel('Grasp quality prediction')\n",
    "plt.legend(loc='upper right')\n",
    "\n",
    "plt.show()"
   ]
  },
  {
   "cell_type": "markdown",
   "metadata": {},
   "source": [
    "Most of the grasps are considered unstable - below 0.5 - with a few bad classification."
   ]
  }
 ],
 "metadata": {
  "kernelspec": {
   "display_name": "Python 2",
   "language": "python",
   "name": "python2"
  },
  "language_info": {
   "codemirror_mode": {
    "name": "ipython",
    "version": 2
   },
   "file_extension": ".py",
   "mimetype": "text/x-python",
   "name": "python",
   "nbconvert_exporter": "python",
   "pygments_lexer": "ipython2",
   "version": "2.7.6"
  },
  "toc": {
   "nav_menu": {},
   "number_sections": true,
   "sideBar": true,
   "skip_h1_title": false,
   "toc_cell": false,
   "toc_position": {},
   "toc_section_display": "block",
   "toc_window_display": false
  }
 },
 "nbformat": 4,
 "nbformat_minor": 2
}
