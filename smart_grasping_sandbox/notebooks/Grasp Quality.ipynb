{
 "cells": [
  {
   "cell_type": "code",
   "execution_count": 24,
   "metadata": {
    "collapsed": true
   },
   "outputs": [],
   "source": [
    "from keras.models import Sequential\n",
    "from keras.layers import Dense\n",
    "from keras.callbacks import TensorBoard\n",
    "from keras.layers import *\n",
    "import numpy\n",
    "\n",
    "from sklearn.model_selection import train_test_split\n",
    "\n",
    "dataset = numpy.loadtxt(\"./shadow_robot_dataset.csv\", delimiter=\",\")"
   ]
  },
  {
   "cell_type": "markdown",
   "metadata": {},
   "source": [
    "# Loading the data\n",
    "\n",
    "Each row of my dataset contains the following:\n",
    "\n",
    "|0 | 1|2|3|4|5|6|7|8|9|10|11|12|13|14|15|16|17|18|19|20|21|22|23|24|25|26|27|28|29|\n",
    "|:-:|:-:|:-:|:-:|:-:|:-:|:-:|:-:|:-:|:-:|:-:|:-:|:-:|:-:|:-:|:-:|:-:|:-:|:-:|:-:|:-:|:-:|:-:|:-:|:-:|:-:|:-:|:-:|:-:|\n",
    "| experiment_number | robustness| H1_F1J2_pos | H1_F1J2_vel | H1_F1J2_effort | H1_F1J3_pos | H1_F1J3_vel | H1_F1J3_effort | H1_F1J1_pos | H1_F1J1_vel | H1_F1J1_effort | H1_F3J1_pos | H1_F3J1_vel | H1_F3J1_effort | H1_F3J2_pos | H1_F3J2_vel | H1_F3J2_effort | H1_F3J3_pos | H1_F3J3_vel | H1_F3J3_effort |  H1_F2J1_pos | H1_F2J1_vel | H1_F2J1_effort | H1_F2J3_pos | H1_F2J3_vel | H1_F2J3_effort | H1_F2J2_pos | H1_F2J2_vel | H1_F2J2_effort | measurement_number|\n",
    "\n",
    "My input vector contains the velocity and effort for each joint. I'm creating the vector `X` containing those below:"
   ]
  },
  {
   "cell_type": "code",
   "execution_count": 28,
   "metadata": {},
   "outputs": [],
   "source": [
    "# only use velocity and effort, not position\n",
    "new_X = []\n",
    "for x in dataset:\n",
    "    new_X.append([x[3],x[4],x[6],x[7],x[9],x[10],x[12],x[13],x[15],x[16],\n",
    "                  x[18],x[19],x[21],x[22], x[24], x[25], x[27], x[28]])\n",
    "   \n",
    "X = numpy.array(new_X)"
   ]
  },
  {
   "cell_type": "markdown",
   "metadata": {},
   "source": [
    "My output vector is the predicted grasp robustness. "
   ]
  },
  {
   "cell_type": "code",
   "execution_count": 30,
   "metadata": {
    "collapsed": true
   },
   "outputs": [],
   "source": [
    "Y = dataset[:,1]"
   ]
  },
  {
   "cell_type": "markdown",
   "metadata": {},
   "source": [
    "We are also splitting the dataset into a training set and a test set. \n",
    "\n",
    "This gives us 4 sets: \n",
    "* `X_train` associated to its `Y_train`\n",
    "* `X_test` associated to its `Y_test`\n",
    "\n",
    "We also discretize the output: 1 is a stable grasp and 0 is unstable. A grasp is considered stable if the robustness value is more than 100."
   ]
  },
  {
   "cell_type": "code",
   "execution_count": 38,
   "metadata": {},
   "outputs": [],
   "source": [
    "# fix random seed for reproducibility\n",
    "# and splitting the dataset\n",
    "seed = 7\n",
    "numpy.random.seed(seed)\n",
    "X_train, X_test, Y_train, Y_test = train_test_split(X, Y, test_size=0.20, random_state=seed)\n",
    "\n",
    "# this is a sensible grasp threshold for stability\n",
    "GOOD_GRASP_THRESHOLD = 100\n",
    "\n",
    "# we're also storing the best and worst grasps of the test set to do some sanity checks on them\n",
    "itemindex = numpy.where(y_test>1.05*GOOD_GRASP_THRESHOLD)\n",
    "best_grasps = X_test[itemindex[0]]\n",
    "itemindex = numpy.where(y_test<=0.95*GOOD_GRASP_THRESHOLD)\n",
    "bad_grasps = X_test[itemindex[0]]\n",
    "\n",
    "# discretizing the grasp quality for stable or unstable grasps\n",
    "Y_train = numpy.array([int(i>GOOD_GRASP_THRESHOLD) for i in Y_train])\n",
    "Y_train = numpy.reshape(Y_train, (Y_train.shape[0],))\n",
    "\n",
    "Y_test = numpy.array([int(i>GOOD_GRASP_THRESHOLD) for i in Y_test])\n",
    "Y_test = numpy.reshape(Y_test, (grasp_quality_test.shape[0],))"
   ]
  },
  {
   "cell_type": "markdown",
   "metadata": {},
   "source": [
    "# Creating the model\n",
    "\n",
    "I'm now creating a model to train. It's a very simple topology. Feel free to play with it and experiment with different model shapes."
   ]
  },
  {
   "cell_type": "code",
   "execution_count": 57,
   "metadata": {},
   "outputs": [],
   "source": [
    "# create model\n",
    "model = Sequential()\n",
    "\n",
    "model.add(Dense(20*len(X[0]), use_bias=True, input_dim=len(X[0]), activation='relu'))\n",
    "model.add(Dropout(0.5))\n",
    "\n",
    "model.add(Dense(1, activation='sigmoid'))\n",
    "\n",
    "# Compile model\n",
    "model.compile(loss='binary_crossentropy', optimizer='adam', metrics=['accuracy'])"
   ]
  },
  {
   "cell_type": "markdown",
   "metadata": {},
   "source": [
    "# Training the model\n",
    "\n",
    "The model training should be relatively quick. To speed it up you can use a GPU :)\n",
    "\n",
    "I'm using 80% of the data for training and 20% for validation."
   ]
  },
  {
   "cell_type": "code",
   "execution_count": 58,
   "metadata": {},
   "outputs": [
    {
     "name": "stdout",
     "output_type": "stream",
     "text": [
      "Train on 290310 samples, validate on 72578 samples\n",
      "Epoch 1/50\n",
      "290310/290310 [==============================] - 2s - loss: 0.9480 - acc: 0.5782 - val_loss: 0.6913 - val_acc: 0.7602\n",
      "Epoch 2/50\n",
      "290310/290310 [==============================] - 2s - loss: 0.8710 - acc: 0.7262 - val_loss: 0.7365 - val_acc: 0.7576\n",
      "Epoch 3/50\n",
      "290310/290310 [==============================] - 2s - loss: 0.8661 - acc: 0.7364 - val_loss: 0.6946 - val_acc: 0.7701\n",
      "Epoch 4/50\n",
      "290310/290310 [==============================] - 2s - loss: 0.8381 - acc: 0.7241 - val_loss: 0.6430 - val_acc: 0.7718\n",
      "Epoch 5/50\n",
      "290310/290310 [==============================] - 2s - loss: 0.8263 - acc: 0.7031 - val_loss: 0.6257 - val_acc: 0.7717\n",
      "Epoch 6/50\n",
      "290310/290310 [==============================] - 2s - loss: 0.8146 - acc: 0.6977 - val_loss: 0.6208 - val_acc: 0.7707\n",
      "Epoch 7/50\n",
      "290310/290310 [==============================] - 2s - loss: 0.7981 - acc: 0.7095 - val_loss: 0.6287 - val_acc: 0.7713\n",
      "Epoch 8/50\n",
      "290310/290310 [==============================] - 2s - loss: 0.7832 - acc: 0.7245 - val_loss: 0.6352 - val_acc: 0.7725\n",
      "Epoch 9/50\n",
      "290310/290310 [==============================] - 2s - loss: 0.7706 - acc: 0.7305 - val_loss: 0.6248 - val_acc: 0.7775\n",
      "Epoch 10/50\n",
      "290310/290310 [==============================] - 2s - loss: 0.7570 - acc: 0.7278 - val_loss: 0.6096 - val_acc: 0.7769\n",
      "Epoch 11/50\n",
      "290310/290310 [==============================] - 2s - loss: 0.7467 - acc: 0.7212 - val_loss: 0.6013 - val_acc: 0.7774\n",
      "Epoch 12/50\n",
      "290310/290310 [==============================] - 2s - loss: 0.7359 - acc: 0.7206 - val_loss: 0.5973 - val_acc: 0.7780\n",
      "Epoch 13/50\n",
      "290310/290310 [==============================] - 2s - loss: 0.7271 - acc: 0.7233 - val_loss: 0.5967 - val_acc: 0.7796\n",
      "Epoch 14/50\n",
      "290310/290310 [==============================] - 2s - loss: 0.7164 - acc: 0.7297 - val_loss: 0.5961 - val_acc: 0.7794\n",
      "Epoch 15/50\n",
      "290310/290310 [==============================] - 2s - loss: 0.7069 - acc: 0.7326 - val_loss: 0.5912 - val_acc: 0.7802\n",
      "Epoch 16/50\n",
      "290310/290310 [==============================] - 2s - loss: 0.6960 - acc: 0.7328 - val_loss: 0.5846 - val_acc: 0.7809\n",
      "Epoch 17/50\n",
      "290310/290310 [==============================] - 2s - loss: 0.6866 - acc: 0.7313 - val_loss: 0.5802 - val_acc: 0.7833\n",
      "Epoch 18/50\n",
      "290310/290310 [==============================] - 2s - loss: 0.6807 - acc: 0.7313 - val_loss: 0.5778 - val_acc: 0.7838\n",
      "Epoch 19/50\n",
      "290310/290310 [==============================] - 2s - loss: 0.6715 - acc: 0.7347 - val_loss: 0.5760 - val_acc: 0.7842\n",
      "Epoch 20/50\n",
      "290310/290310 [==============================] - 2s - loss: 0.6644 - acc: 0.7378 - val_loss: 0.5736 - val_acc: 0.7834\n",
      "Epoch 21/50\n",
      "290310/290310 [==============================] - 2s - loss: 0.6558 - acc: 0.7410 - val_loss: 0.5698 - val_acc: 0.7831\n",
      "Epoch 22/50\n",
      "290310/290310 [==============================] - 2s - loss: 0.6487 - acc: 0.7405 - val_loss: 0.5662 - val_acc: 0.7830\n",
      "Epoch 23/50\n",
      "290310/290310 [==============================] - 2s - loss: 0.6425 - acc: 0.7396 - val_loss: 0.5633 - val_acc: 0.7836\n",
      "Epoch 24/50\n",
      "290310/290310 [==============================] - 2s - loss: 0.6348 - acc: 0.7412 - val_loss: 0.5611 - val_acc: 0.7846\n",
      "Epoch 25/50\n",
      "290310/290310 [==============================] - 2s - loss: 0.6291 - acc: 0.7443 - val_loss: 0.5587 - val_acc: 0.7847\n",
      "Epoch 26/50\n",
      "290310/290310 [==============================] - 2s - loss: 0.6232 - acc: 0.7462 - val_loss: 0.5556 - val_acc: 0.7851\n",
      "Epoch 27/50\n",
      "290310/290310 [==============================] - 2s - loss: 0.6189 - acc: 0.7459 - val_loss: 0.5526 - val_acc: 0.7842\n",
      "Epoch 28/50\n",
      "290310/290310 [==============================] - 2s - loss: 0.6124 - acc: 0.7463 - val_loss: 0.5500 - val_acc: 0.7841\n",
      "Epoch 29/50\n",
      "290310/290310 [==============================] - 2s - loss: 0.6067 - acc: 0.7486 - val_loss: 0.5476 - val_acc: 0.7844\n",
      "Epoch 30/50\n",
      "290310/290310 [==============================] - 2s - loss: 0.6022 - acc: 0.7494 - val_loss: 0.5450 - val_acc: 0.7846\n",
      "Epoch 31/50\n",
      "290310/290310 [==============================] - 2s - loss: 0.5976 - acc: 0.7515 - val_loss: 0.5421 - val_acc: 0.7848\n",
      "Epoch 32/50\n",
      "290310/290310 [==============================] - 2s - loss: 0.5921 - acc: 0.7511 - val_loss: 0.5392 - val_acc: 0.7848\n",
      "Epoch 33/50\n",
      "290310/290310 [==============================] - 2s - loss: 0.5871 - acc: 0.7518 - val_loss: 0.5365 - val_acc: 0.7845\n",
      "Epoch 34/50\n",
      "290310/290310 [==============================] - 2s - loss: 0.5826 - acc: 0.7533 - val_loss: 0.5339 - val_acc: 0.7845\n",
      "Epoch 35/50\n",
      "290310/290310 [==============================] - 2s - loss: 0.5772 - acc: 0.7553 - val_loss: 0.5311 - val_acc: 0.7845\n",
      "Epoch 36/50\n",
      "290310/290310 [==============================] - 2s - loss: 0.5746 - acc: 0.7549 - val_loss: 0.5283 - val_acc: 0.7843\n",
      "Epoch 37/50\n",
      "290310/290310 [==============================] - 2s - loss: 0.5699 - acc: 0.7556 - val_loss: 0.5254 - val_acc: 0.7843\n",
      "Epoch 38/50\n",
      "290310/290310 [==============================] - 2s - loss: 0.5656 - acc: 0.7558 - val_loss: 0.5226 - val_acc: 0.7841\n",
      "Epoch 39/50\n",
      "290310/290310 [==============================] - 2s - loss: 0.5613 - acc: 0.7575 - val_loss: 0.5199 - val_acc: 0.7838\n",
      "Epoch 40/50\n",
      "290310/290310 [==============================] - 2s - loss: 0.5570 - acc: 0.7591 - val_loss: 0.5171 - val_acc: 0.7838\n",
      "Epoch 41/50\n",
      "290310/290310 [==============================] - 2s - loss: 0.5529 - acc: 0.7586 - val_loss: 0.5142 - val_acc: 0.7837\n",
      "Epoch 42/50\n",
      "290310/290310 [==============================] - 2s - loss: 0.5479 - acc: 0.7602 - val_loss: 0.5114 - val_acc: 0.7837\n",
      "Epoch 43/50\n",
      "290310/290310 [==============================] - 2s - loss: 0.5450 - acc: 0.7601 - val_loss: 0.5089 - val_acc: 0.7837\n",
      "Epoch 44/50\n",
      "290310/290310 [==============================] - 2s - loss: 0.5414 - acc: 0.7603 - val_loss: 0.5059 - val_acc: 0.7833\n",
      "Epoch 45/50\n",
      "290310/290310 [==============================] - 2s - loss: 0.5367 - acc: 0.7611 - val_loss: 0.5033 - val_acc: 0.7830\n",
      "Epoch 46/50\n",
      "290310/290310 [==============================] - 2s - loss: 0.5331 - acc: 0.7619 - val_loss: 0.5007 - val_acc: 0.7828\n",
      "Epoch 47/50\n",
      "290310/290310 [==============================] - 2s - loss: 0.5298 - acc: 0.7623 - val_loss: 0.4981 - val_acc: 0.7829\n",
      "Epoch 48/50\n",
      "290310/290310 [==============================] - 2s - loss: 0.5262 - acc: 0.7615 - val_loss: 0.4956 - val_acc: 0.7827\n",
      "Epoch 49/50\n",
      "290310/290310 [==============================] - 2s - loss: 0.5239 - acc: 0.7624 - val_loss: 0.4930 - val_acc: 0.7824\n",
      "Epoch 50/50\n",
      "290310/290310 [==============================] - 2s - loss: 0.5203 - acc: 0.7627 - val_loss: 0.4907 - val_acc: 0.7821\n"
     ]
    },
    {
     "data": {
      "text/plain": [
       "<keras.callbacks.History at 0x7f3aecccb7d0>"
      ]
     },
     "execution_count": 58,
     "metadata": {},
     "output_type": "execute_result"
    }
   ],
   "source": [
    "model.fit(X_train, Y_train, validation_split=0.20, epochs=50,\n",
    "          batch_size=100000)"
   ]
  },
  {
   "cell_type": "markdown",
   "metadata": {},
   "source": [
    "Now that the model is trained I'm saving it to be able to load it easily later on."
   ]
  },
  {
   "cell_type": "code",
   "execution_count": 59,
   "metadata": {
    "collapsed": true
   },
   "outputs": [],
   "source": [
    "import h5py\n",
    "model.save(\"./model.h5\")"
   ]
  },
  {
   "cell_type": "markdown",
   "metadata": {},
   "source": [
    "# Evaluating the model\n",
    "\n",
    "First let's see how this model performs on the test set - which hasn't been used during the training phase."
   ]
  },
  {
   "cell_type": "code",
   "execution_count": 60,
   "metadata": {},
   "outputs": [
    {
     "name": "stdout",
     "output_type": "stream",
     "text": [
      "90176/90723 [============================>.] - ETA: 0s\n",
      "acc: 77.89%\n"
     ]
    }
   ],
   "source": [
    "scores = model.evaluate(X_test, grasp_quality_test)\n",
    "print(\"\\n%s: %.2f%%\" % (model.metrics_names[1], scores[1]*100))"
   ]
  },
  {
   "cell_type": "markdown",
   "metadata": {},
   "source": [
    "Now let's take a quick look at the good grasps we stored earlier. Are they correctly predicted as stable?"
   ]
  },
  {
   "cell_type": "code",
   "execution_count": 61,
   "metadata": {},
   "outputs": [
    {
     "data": {
      "image/png": "[encoded data removed]",
      "text/plain": [
       "<matplotlib.figure.Figure at 0x7f3aecf5f990>"
      ]
     },
     "metadata": {},
     "output_type": "display_data"
    }
   ],
   "source": [
    "predictions = model.predict(best_grasps)\n",
    "\n",
    "%matplotlib inline\n",
    "import matplotlib.pyplot as plt\n",
    "\n",
    "plt.hist(predictions,\n",
    "         color='#77D651',\n",
    "         alpha=0.5,\n",
    "         label='Good Grasps')\n",
    "\n",
    "plt.title('Histogram of grasp prediction')\n",
    "plt.ylabel('Number of grasps')\n",
    "plt.xlabel('Grasp quality prediction')\n",
    "plt.legend(loc='upper right')\n",
    "\n",
    "plt.show()"
   ]
  },
  {
   "cell_type": "markdown",
   "metadata": {},
   "source": [
    "Most of the grasps are correctly predicted as stable (the grasp quality prediction is more than 0.5)! Looking good.\n",
    "\n",
    "What about the unstable grasps?"
   ]
  },
  {
   "cell_type": "code",
   "execution_count": 62,
   "metadata": {},
   "outputs": [
    {
     "data": {
      "image/png": "[encoded data removed]",
      "text/plain": [
       "<matplotlib.figure.Figure at 0x7f3aec9ceed0>"
      ]
     },
     "metadata": {},
     "output_type": "display_data"
    }
   ],
   "source": [
    "predictions_bad_grasp = model.predict(bad_grasps)\n",
    "\n",
    "\n",
    "# Plot a histogram of defender size\n",
    "plt.hist(predictions_bad_grasp,\n",
    "         color='#D66751',\n",
    "         alpha=0.3,\n",
    "         label='Bad Grasps')\n",
    "\n",
    "plt.title('Histogram of grasp prediction')\n",
    "plt.ylabel('Number of grasps')\n",
    "plt.xlabel('Grasp quality prediction')\n",
    "plt.legend(loc='upper right')\n",
    "\n",
    "plt.show()"
   ]
  },
  {
   "cell_type": "markdown",
   "metadata": {},
   "source": [
    "Most of the grasps are considered unstable - below 0.5 - with a few bad classification."
   ]
  }
 ],
 "metadata": {
  "kernelspec": {
   "display_name": "Python 2",
   "language": "python",
   "name": "python2"
  },
  "language_info": {
   "codemirror_mode": {
    "name": "ipython",
    "version": 2
   },
   "file_extension": ".py",
   "mimetype": "text/x-python",
   "name": "python",
   "nbconvert_exporter": "python",
   "pygments_lexer": "ipython2",
   "version": "2.7.6"
  },
  "toc": {
   "nav_menu": {},
   "number_sections": true,
   "sideBar": true,
   "skip_h1_title": false,
   "toc_cell": false,
   "toc_position": {},
   "toc_section_display": "block",
   "toc_window_display": false
  }
 },
 "nbformat": 4,
 "nbformat_minor": 2
}
