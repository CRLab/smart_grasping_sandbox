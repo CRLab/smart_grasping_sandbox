{
 "cells": [
  {
   "cell_type": "code",
   "execution_count": 1,
   "metadata": {},
   "outputs": [
    {
     "data": {
      "text/plain": [
       "True"
      ]
     },
     "execution_count": 1,
     "metadata": {},
     "output_type": "execute_result"
    }
   ],
   "source": [
    "from openravepy import *\n",
    "import numpy\n",
    "env = Environment() # create openrave environment\n",
    "env.SetViewer('qtcoin') # attach viewer (optional)\n",
    "RaveSetDebugLevel(DebugLevel.Debug)\n"
   ]
  },
  {
   "cell_type": "code",
   "execution_count": null,
   "metadata": {
    "collapsed": true
   },
   "outputs": [],
   "source": [
    "env.Load(\"../../fh_desc/model.xml\")\n",
    "env.Load(\"data/table_washer.kinbody.xml\")\n",
    "\n",
    "robot = env.GetRobots()[0]\n",
    "manip = robot.GetActiveManipulator()\n",
    "\n",
    "ikmodel = databases.inversekinematics.InverseKinematicsModel(robot,iktype=IkParameterization.Type.Transform6D)\n",
    "if not ikmodel.load():\n",
    "    ikmodel.autogenerate()"
   ]
  },
  {
   "cell_type": "code",
   "execution_count": null,
   "metadata": {},
   "outputs": [],
   "source": [
    "robot.SetDOFValues([0.0, -0.75, 2.2, 0.5],[0,1,2,3]) # set the first 4 dof values\n",
    "Tee = manip.GetEndEffectorTransform()\n",
    "print Tee"
   ]
  },
  {
   "cell_type": "code",
   "execution_count": null,
   "metadata": {},
   "outputs": [],
   "source": [
    "manipprob = interfaces.BaseManipulation(robot) # create the interface for basic manipulation programs\n",
    "Tgoal = numpy.array([[0.37,0.92,0,0.4],[0,0,1,-0.23],[0.93,-0.37,0,0.12],[0,0,0,1]])\n",
    "print Tgoal"
   ]
  },
  {
   "cell_type": "code",
   "execution_count": null,
   "metadata": {},
   "outputs": [],
   "source": [
    "res = manipprob.MoveToHandPosition(matrices=[Tgoal],seedik=10) # call motion planner with goal joint angles\n",
    "robot.WaitForController(0) # wait"
   ]
  },
  {
   "cell_type": "code",
   "execution_count": null,
   "metadata": {},
   "outputs": [],
   "source": [
    "robot.SetDOFValues([0.0, -2.35, -2.6, 0.5],[0,1,2,3]) # set the first 4 dof values\n",
    "Tee = manip.GetEndEffectorTransform()\n",
    "print Tee"
   ]
  },
  {
   "cell_type": "code",
   "execution_count": null,
   "metadata": {},
   "outputs": [],
   "source": [
    "manipprob = interfaces.BaseManipulation(robot) # create the interface for basic manipulation programs\n",
    "Tgoal = numpy.array([[0.51,0.86,0,-0.4],[0,0,1,-0.23],[0.86,-0.51,0,0.12],[0,0,0,1]])\n",
    "print Tgoal"
   ]
  },
  {
   "cell_type": "code",
   "execution_count": null,
   "metadata": {},
   "outputs": [],
   "source": [
    "res = manipprob.MoveToHandPosition(matrices=[Tgoal],seedik=10) # call motion planner with goal joint angles\n",
    "robot.WaitForController(0) # wait"
   ]
  },
  {
   "cell_type": "code",
   "execution_count": null,
   "metadata": {},
   "outputs": [],
   "source": [
    "for _ in range(10):\n",
    "    manipprob = interfaces.BaseManipulation(robot) # create the interface for basic manipulation programs\n",
    "    Tgoal = numpy.array([[0.37,0.92,0,0.4],[0,0,1,-0.23],[0.93,-0.37,0,0.12],[0,0,0,1]])\n",
    "    res = manipprob.MoveToHandPosition(matrices=[Tgoal],seedik=10) # call motion planner with goal joint angles\n",
    "    robot.WaitForController(0) # wait\n",
    "\n",
    "    manipprob = interfaces.BaseManipulation(robot) # create the interface for basic manipulation programs\n",
    "    Tgoal = numpy.array([[0.51,0.86,0,-0.4],[0,0,1,-0.23],[0.86,-0.51,0,0.12],[0,0,0,1]])\n",
    "    res = manipprob.MoveToHandPosition(matrices=[Tgoal],seedik=10) # call motion planner with goal joint angles\n",
    "    robot.WaitForController(0) # wait"
   ]
  },
  {
   "cell_type": "code",
   "execution_count": null,
   "metadata": {},
   "outputs": [],
   "source": [
    "env.Load(\"data/mug1.kinbody.xml\")"
   ]
  },
  {
   "cell_type": "code",
   "execution_count": null,
   "metadata": {},
   "outputs": [],
   "source": [
    "mug = env.GetKinBody('mug')\n",
    "mug_pose = numpy.array([[1,0,0,0],[0,0,-1,0],[0,1,0,0.05],[0,0,0,1]])\n",
    "\n",
    "mug.SetTransform(mug_pose)"
   ]
  },
  {
   "cell_type": "code",
   "execution_count": null,
   "metadata": {},
   "outputs": [],
   "source": [
    "gmodel = databases.grasping.GraspingModel(robot,mug)\n",
    "if not gmodel.load():\n",
    "    gmodel.autogenerate()"
   ]
  },
  {
   "cell_type": "code",
   "execution_count": null,
   "metadata": {},
   "outputs": [],
   "source": [
    "validgrasps, validindicees = gmodel.computeValidGrasps(returnnum=1)\n",
    "gmodel.moveToPreshape(validgrasps[0])\n",
    "Tgoal = gmodel.getGlobalGraspTransform(validgrasps[0],collisionfree=True)\n",
    "basemanip = interfaces.BaseManipulation(robot)\n",
    "basemanip.MoveToHandPosition(matrices=[Tgoal])\n",
    "robot.WaitForController(0)\n",
    "taskmanip = interfaces.TaskManipulation(robot)\n",
    "taskmanip.CloseFingers()\n",
    "robot.WaitForController(0)"
   ]
  },
  {
   "cell_type": "code",
   "execution_count": null,
   "metadata": {
    "collapsed": true
   },
   "outputs": [],
   "source": []
  },
  {
   "cell_type": "code",
   "execution_count": null,
   "metadata": {},
   "outputs": [],
   "source": [
    "import time\n",
    "for _ in range(2):\n",
    "    starttime = time.time()\n",
    "    manipprob = interfaces.BaseManipulation(robot) # create the interface for basic manipulation programs\n",
    "    Tgoal = numpy.array([[0.37,0.92,0,0.4],[0,0,1,-0.23],[0.93,-0.37,0,0.12],[0,0,0,1]])\n",
    "    traj = manipprob.MoveToHandPosition(matrices=[Tgoal],seedik=10l,execute=False,outputtrajobj=True) # call motion planner with goal joint angles\n",
    "    print('non-inkstatistics planning time: %fs'%(time.time()-starttime))\n",
    "    robot.GetController().SetPath(traj)\n",
    "    robot.WaitForController(0) # wait\n",
    "    \n",
    "    starttime = time.time()\n",
    "    manipprob = interfaces.BaseManipulation(robot) # create the interface for basic manipulation programs\n",
    "    Tgoal = numpy.array([[0.51,0.86,0,-0.4],[0,0,1,-0.23],[0.86,-0.51,0,0.12],[0,0,0,1]])\n",
    "    traj = manipprob.MoveToHandPosition(matrices=[Tgoal],seedik=10l,execute=False,outputtrajobj=True) # call motion planner with goal joint angles\n",
    "    print('non-linkstatistics planning time: %fs'%(time.time()-starttime))\n",
    "    robot.GetController().SetPath(traj)\n",
    "    robot.WaitForController(0) # wait\n",
    "    \n",
    "lmodel=databases.linkstatistics.LinkStatisticsModel(robot)\n",
    "if not lmodel.load():\n",
    "    lmodel.autogenerate()\n",
    "    \n",
    "lmodel.setRobotResolutions(0.5) # set resolution given smallest object is 0.1m\n",
    "lmodel.setRobotWeights() # set the weights for planning\n",
    "for _ in range(2):\n",
    "    starttime = time.time()\n",
    "    manipprob = interfaces.BaseManipulation(robot) # create the interface for basic manipulation programs\n",
    "    Tgoal = numpy.array([[0.37,0.92,0,0.4],[0,0,1,-0.23],[0.93,-0.37,0,0.12],[0,0,0,1]])\n",
    "    traj = manipprob.MoveToHandPosition(matrices=[Tgoal],seedik=10l,execute=False,outputtrajobj=True) # call motion planner with goal joint angles\n",
    "    print('linkstatistics planning time: %fs'%(time.time()-starttime))\n",
    "    robot.GetController().SetPath(traj)\n",
    "    robot.WaitForController(0) # wait\n",
    "    \n",
    "    starttime = time.time()\n",
    "    manipprob = interfaces.BaseManipulation(robot) # create the interface for basic manipulation programs\n",
    "    Tgoal = numpy.array([[0.51,0.86,0,-0.4],[0,0,1,-0.23],[0.86,-0.51,0,0.12],[0,0,0,1]])\n",
    "    traj = manipprob.MoveToHandPosition(matrices=[Tgoal],seedik=10l,execute=False,outputtrajobj=True) # call motion planner with goal joint angles\n",
    "    print('linkstatistics planning time: %fs'%(time.time()-starttime))\n",
    "    robot.GetController().SetPath(traj)\n",
    "    robot.WaitForController(0) # wait\n",
    "    \n",
    "#starttime = time.time()\n",
    "#traj=manipprob.MoveManipulator(goal=goal,execute=False,outputtrajobj=True)\n",
    "#raveLogInfo('linkstatistics planning time: %fs'%(time.time()-starttime))\n",
    "#robot.GetController().SetPath(traj)\n",
    "#robot.WaitForController(0)"
   ]
  }
 ],
 "metadata": {
  "kernelspec": {
   "display_name": "Python 2",
   "language": "python",
   "name": "python2"
  },
  "language_info": {
   "codemirror_mode": {
    "name": "ipython",
    "version": 2
   },
   "file_extension": ".py",
   "mimetype": "text/x-python",
   "name": "python",
   "nbconvert_exporter": "python",
   "pygments_lexer": "ipython2",
   "version": "2.7.6"
  },
  "toc": {
   "colors": {
    "hover_highlight": "#DAA520",
    "navigate_num": "#000000",
    "navigate_text": "#333333",
    "running_highlight": "#FF0000",
    "selected_highlight": "#FFD700",
    "sidebar_border": "#EEEEEE",
    "wrapper_background": "#FFFFFF"
   },
   "moveMenuLeft": true,
   "nav_menu": {
    "height": "12px",
    "width": "252px"
   },
   "navigate_menu": true,
   "number_sections": true,
   "sideBar": true,
   "threshold": 4,
   "toc_cell": false,
   "toc_section_display": "block",
   "toc_window_display": false,
   "widenNotebook": false
  }
 },
 "nbformat": 4,
 "nbformat_minor": 2
}
