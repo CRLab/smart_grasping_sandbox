{
 "cells": [
  {
   "cell_type": "markdown",
   "metadata": {},
   "source": [
    "# Openrave for grasping\n",
    "\n",
    "First we load the robot, a scene and a mug to grasp it."
   ]
  },
  {
   "cell_type": "code",
   "execution_count": 1,
   "metadata": {},
   "outputs": [],
   "source": [
    "from openravepy import *\n",
    "import numpy\n",
    "env = Environment() # create openrave environment\n",
    "env.SetViewer('qtcoin') # attach viewer (optional)\n",
    "RaveSetDebugLevel(DebugLevel.Debug)\n",
    "\n",
    "\n",
    "env.Load(\"../../fh_desc/model.xml\")\n",
    "env.Load(\"data/table_washer.kinbody.xml\")\n",
    "\n",
    "robot = env.GetRobots()[0]\n",
    "manip = robot.GetActiveManipulator()\n",
    "\n",
    "ikmodel = databases.inversekinematics.InverseKinematicsModel(robot,iktype=IkParameterization.Type.Transform6D)\n",
    "if not ikmodel.load():\n",
    "    ikmodel.autogenerate()\n",
    "\n",
    "env.Load(\"data/mug1.kinbody.xml\")\n",
    "\n",
    "mug = env.GetKinBody('mug')\n",
    "mug_pose = numpy.array([[1,0,0,0],[0,0,-1,0],[0,1,0,0.05],[0,0,0,1]])\n",
    "\n",
    "mug.SetTransform(mug_pose)\n",
    "\n",
    "manipprob = interfaces.BaseManipulation(robot) # create the interface for basic manipulation programs\n"
   ]
  },
  {
   "cell_type": "markdown",
   "metadata": {},
   "source": [
    "Now we load or generate (if necessary) the list of grasps"
   ]
  },
  {
   "cell_type": "code",
   "execution_count": 2,
   "metadata": {},
   "outputs": [],
   "source": [
    "gmodel = databases.grasping.GraspingModel(robot,mug)\n",
    "if not gmodel.load():\n",
    "    gmodel.autogenerate()"
   ]
  },
  {
   "cell_type": "markdown",
   "metadata": {},
   "source": [
    "Now we use the first valid grasp"
   ]
  },
  {
   "cell_type": "code",
   "execution_count": 3,
   "metadata": {},
   "outputs": [
    {
     "data": {
      "text/plain": [
       "True"
      ]
     },
     "execution_count": 3,
     "metadata": {},
     "output_type": "execute_result"
    }
   ],
   "source": [
    "validgrasps, validindicees = gmodel.computeValidGrasps(returnnum=1)\n",
    "gmodel.moveToPreshape(validgrasps[0])\n",
    "Tgoal = gmodel.getGlobalGraspTransform(validgrasps[0],collisionfree=True)\n",
    "basemanip = interfaces.BaseManipulation(robot)\n",
    "basemanip.MoveToHandPosition(matrices=[Tgoal])\n",
    "robot.WaitForController(0)\n",
    "taskmanip = interfaces.TaskManipulation(robot)\n",
    "taskmanip.CloseFingers()\n",
    "robot.WaitForController(0)"
   ]
  },
  {
   "cell_type": "markdown",
   "metadata": {},
   "source": [
    "# Other useful openrave tricks\n",
    "\n",
    "Plans in cartesian"
   ]
  },
  {
   "cell_type": "code",
   "execution_count": 4,
   "metadata": {},
   "outputs": [],
   "source": [
    "for _ in range(1):\n",
    "    manipprob = interfaces.BaseManipulation(robot) # create the interface for basic manipulation programs\n",
    "    Tgoal = numpy.array([[0.37,0.92,0,0.4],[0,0,1,-0.23],[0.93,-0.37,0,0.12],[0,0,0,1]])\n",
    "    res = manipprob.MoveToHandPosition(matrices=[Tgoal],seedik=10) # call motion planner with goal joint angles\n",
    "    robot.WaitForController(0) # wait\n",
    "\n",
    "    manipprob = interfaces.BaseManipulation(robot) # create the interface for basic manipulation programs\n",
    "    Tgoal = numpy.array([[0.51,0.86,0,-0.4],[0,0,1,-0.23],[0.86,-0.51,0,0.12],[0,0,0,1]])\n",
    "    res = manipprob.MoveToHandPosition(matrices=[Tgoal],seedik=10) # call motion planner with goal joint angles\n",
    "    robot.WaitForController(0) # wait"
   ]
  }
 ],
 "metadata": {
  "kernelspec": {
   "display_name": "Python 2",
   "language": "python",
   "name": "python2"
  },
  "language_info": {
   "codemirror_mode": {
    "name": "ipython",
    "version": 2
   },
   "file_extension": ".py",
   "mimetype": "text/x-python",
   "name": "python",
   "nbconvert_exporter": "python",
   "pygments_lexer": "ipython2",
   "version": "2.7.6"
  },
  "toc": {
   "colors": {
    "hover_highlight": "#DAA520",
    "navigate_num": "#000000",
    "navigate_text": "#333333",
    "running_highlight": "#FF0000",
    "selected_highlight": "#FFD700",
    "sidebar_border": "#EEEEEE",
    "wrapper_background": "#FFFFFF"
   },
   "moveMenuLeft": true,
   "nav_menu": {
    "height": "49px",
    "width": "252px"
   },
   "navigate_menu": true,
   "number_sections": true,
   "sideBar": true,
   "threshold": 4,
   "toc_cell": false,
   "toc_section_display": "block",
   "toc_window_display": false,
   "widenNotebook": false
  }
 },
 "nbformat": 4,
 "nbformat_minor": 2
}
